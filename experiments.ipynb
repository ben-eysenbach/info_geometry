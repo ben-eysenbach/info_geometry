{
  "nbformat": 4,
  "nbformat_minor": 0,
  "metadata": {
    "colab": {
      "name": "experiments.ipynb",
      "provenance": [],
      "collapsed_sections": []
    },
    "kernelspec": {
      "name": "python3",
      "display_name": "Python 3"
    },
    "language_info": {
      "name": "python"
    }
  },
  "cells": [
    {
      "cell_type": "code",
      "metadata": {
        "id": "vXqSoeNAu1uy"
      },
      "source": [
        "import tensorflow as tf\n",
        "import numpy as np\n",
        "import matplotlib.pyplot as plt\n",
        "import scipy.spatial\n",
        "import scipy.optimize\n",
        "import tqdm\n",
        "import cvxpy\n",
        "import itertools\n",
        "from mpl_toolkits import mplot3d\n",
        "import matplotlib.image\n",
        "import imageio\n",
        "\n",
        "A = np.array([[1, 1, 1],\n",
        "              [0, 1, 0.5],\n",
        "              [0, 0, 0.5 * np.sqrt(3)]])\n",
        "\n",
        "def p_to_xy(p):\n",
        "  assert p.shape[0] == 3\n",
        "  _xy = A @ p\n",
        "  xy = _xy[1:]\n",
        "  return xy\n",
        "\n",
        "def xy_to_p(xy):\n",
        "  assert xy.shape[0] == 2\n",
        "  _xy = np.concatenate([np.ones_like(xy[:1]), xy])\n",
        "  return np.linalg.solve(A, _xy)\n",
        "\n",
        "print(xy_to_p(np.array([0, 0])))\n",
        "print(xy_to_p(np.array([1, 0])))\n",
        "print(xy_to_p(np.array([1./2, np.sqrt(3) / 2])))\n",
        "\n",
        "c_vec = plt.rcParams['axes.prop_cycle'].by_key()['color']"
      ],
      "execution_count": 1,
      "outputs": []
    },
    {
      "cell_type": "code",
      "metadata": {
        "colab": {
          "base_uri": "https://localhost:8080/",
          "height": 349
        },
        "id": "VNd-DJAhDbJY",
        "outputId": "5b685ca7-0fa9-48e8-e3d9-331f477c479d"
      },
      "source": [
        "num_states = 3\n",
        "num_skills = 6\n",
        "\n",
        "p_s_given_z = np.random.dirichlet(2 * np.ones(num_states), size=num_skills)\n",
        "p_z = cvxpy.Variable(shape=num_skills)\n",
        "p_s = p_s_given_z.T * p_z\n",
        "\n",
        "h_s_given_z = -np.sum(p_s_given_z * np.log(p_s_given_z), axis=1)\n",
        "h_s = cvxpy.sum(cvxpy.entr(p_s))\n",
        "mi = h_s - h_s_given_z * p_z\n",
        "\n",
        "obj = cvxpy.Maximize(mi)\n",
        "constraints = [cvxpy.sum(p_z) == 1, p_z >= 0]\n",
        "prob = cvxpy.Problem(obj, constraints)\n",
        "prob.solve()\n",
        "\n",
        "xy_vec = p_to_xy(p_s_given_z.T).T\n",
        "hull = scipy.spatial.ConvexHull(xy_vec)\n",
        "p_vertices = p_s_given_z[hull.vertices]\n",
        "xy_vertices = xy_vec[hull.vertices]\n",
        "xy_vertices_wrapped = np.concatenate([xy_vertices, [xy_vertices[0]]])\n",
        "\n",
        "p_s_x, p_s_y = p_to_xy(p_s.value)\n",
        "xy_support = xy_vec[p_z.value > 0.01]\n",
        "\n",
        "plt.figure(figsize=(4, 4 * np.sqrt(3)))\n",
        "plt.plot(xy_vec[:, 0], xy_vec[:, 1], 'o', c=c_vec[1], ms=10, alpha=0.3)\n",
        "plt.plot(xy_vertices_wrapped[:, 0], xy_vertices_wrapped[:, 1], '-', c=c_vec[1])\n",
        "\n",
        "plt.plot(xy_support[:, 0], xy_support[:, 1], 'o', ms=10, c=c_vec[1])\n",
        "plt.plot([p_s_x], [p_s_y], 's', c=c_vec[2], ms=10)\n",
        "for (x, y) in xy_support:\n",
        "  plt.plot([x, p_s_x], [y, p_s_y], '-', c='k', linewidth=1)\n",
        "\n",
        "plt.plot([0, 1, 0.5, 0], [0, 0, 0.5 * np.sqrt(3), 0], c=c_vec[0])\n",
        "\n",
        "kl = np.sum(p_s_given_z[p_z.value > 0.01] * np.log(p_s_given_z[p_z.value > 0.01] / p_s.value[None]), axis=1)\n",
        "assert kl.max() - kl.min() < 1e-6\n",
        "d = kl.mean()\n",
        "size = 100\n",
        "x = np.linspace(0, 1, size)\n",
        "y = np.linspace(0, 1, size)\n",
        "xy = np.stack(np.meshgrid(x, y), axis=-1).reshape((-1, 2))\n",
        "p = xy_to_p(xy.T).T\n",
        "kl = np.sum(p * np.log(p / p_s.value[None]), axis=1)\n",
        "kl = kl.reshape((size, size))\n",
        "plt.contour(x, y, kl, levels=[d], colors='k', linestyles='--')\n",
        "\n",
        "plt.axis('off')\n",
        "plt.tight_layout()\n",
        "plt.gca().set_aspect('equal')\n",
        "plt.savefig('skill.png', dpi=300, bbox_inches='tight')\n",
        "plt.show()"
      ],
      "execution_count": 9,
      "outputs": [
        {
          "output_type": "stream",
          "name": "stderr",
          "text": [
            "/usr/local/lib/python3.7/dist-packages/ipykernel_launcher.py:45: RuntimeWarning: divide by zero encountered in log\n",
            "/usr/local/lib/python3.7/dist-packages/ipykernel_launcher.py:45: RuntimeWarning: invalid value encountered in log\n",
            "/usr/local/lib/python3.7/dist-packages/ipykernel_launcher.py:45: RuntimeWarning: invalid value encountered in multiply\n"
          ]
        },
        {
          "output_type": "display_data",
          "data": {
            "image/png": "[encoded data removed]",
            "text/plain": [
              "<Figure size 288x498.831 with 1 Axes>"
            ]
          },
          "metadata": {
            "needs_background": "light"
          }
        }
      ]
    },
    {
      "cell_type": "code",
      "metadata": {
        "id": "qreIetS6seS7"
      },
      "source": [
        ""
      ],
      "execution_count": null,
      "outputs": []
    }
  ]
}
